{
 "cells": [
  {
   "cell_type": "markdown",
   "metadata": {},
   "source": [
    "### Problem Statement : We are a consultancy firm, Investopedia, hired by Pennywise who are looking forward to invest in cryptocurrency in 2018. We are hired to give them some insights about the market sentiment and help them in making a model to predict the prices of Bitcoin, Ripple and Ethereum."
   ]
  },
  {
   "cell_type": "markdown",
   "metadata": {},
   "source": [
    "#### Importing Python libraries:"
   ]
  },
  {
   "cell_type": "code",
   "execution_count": 1,
   "metadata": {},
   "outputs": [
    {
     "name": "stderr",
     "output_type": "stream",
     "text": [
      "C:\\Users\\Bhakti\\Anaconda2\\lib\\site-packages\\sklearn\\cross_validation.py:41: DeprecationWarning: This module was deprecated in version 0.18 in favor of the model_selection module into which all the refactored classes and functions are moved. Also note that the interface of the new CV iterators are different from that of this module. This module will be removed in 0.20.\n",
      "  \"This module will be removed in 0.20.\", DeprecationWarning)\n"
     ]
    }
   ],
   "source": [
    "import pandas as pd\n",
    "import numpy as np\n",
    "import nltk\n",
    "import csv\n",
    "import itertools\n",
    "from operator import itemgetter\n",
    "from sklearn.feature_extraction.text import CountVectorizer\n",
    "from sklearn.naive_bayes import MultinomialNB\n",
    "from sklearn import preprocessing, cross_validation, svm"
   ]
  },
  {
   "cell_type": "markdown",
   "metadata": {},
   "source": [
    "#### Financial News Sentiment Analysis :"
   ]
  },
  {
   "cell_type": "code",
   "execution_count": 2,
   "metadata": {
    "collapsed": true
   },
   "outputs": [],
   "source": [
    "df = pd.read_csv('News_train_data.csv')"
   ]
  },
  {
   "cell_type": "code",
   "execution_count": 3,
   "metadata": {
    "collapsed": true
   },
   "outputs": [],
   "source": [
    "vectorizer = CountVectorizer()\n",
    "counts = vectorizer.fit_transform(df['Top1'].values)"
   ]
  },
  {
   "cell_type": "code",
   "execution_count": 4,
   "metadata": {
    "collapsed": true
   },
   "outputs": [],
   "source": [
    "classifierModel = MultinomialNB()"
   ]
  },
  {
   "cell_type": "code",
   "execution_count": 5,
   "metadata": {},
   "outputs": [
    {
     "data": {
      "text/plain": [
       "MultinomialNB(alpha=1.0, class_prior=None, fit_prior=True)"
      ]
     },
     "execution_count": 5,
     "metadata": {},
     "output_type": "execute_result"
    }
   ],
   "source": [
    "targets = df['Label'].values\n",
    "classifierModel.fit(counts, targets)"
   ]
  },
  {
   "cell_type": "code",
   "execution_count": 6,
   "metadata": {
    "collapsed": true
   },
   "outputs": [],
   "source": [
    "df1=pd.read_csv('News_test_data1.csv')"
   ]
  },
  {
   "cell_type": "code",
   "execution_count": 7,
   "metadata": {
    "collapsed": true
   },
   "outputs": [],
   "source": [
    "df1['Label'] = vectorizer.transform(df1['News'])"
   ]
  },
  {
   "cell_type": "code",
   "execution_count": 8,
   "metadata": {
    "collapsed": true
   },
   "outputs": [],
   "source": [
    "df1['Label'] = classifierModel.predict(vectorizer.transform(df1['News']))"
   ]
  },
  {
   "cell_type": "markdown",
   "metadata": {},
   "source": [
    "#### Code to manipulate Date Format (Common Date Format required to merge files):"
   ]
  },
  {
   "cell_type": "code",
   "execution_count": 9,
   "metadata": {
    "collapsed": true
   },
   "outputs": [],
   "source": [
    "df1['Date'] = df1['Date'].map(lambda x : x[4] + x[5] +'-' + x[0]+x[1]+x[2] + '-'+ x[10] + x[11] if x[5]!=',' else x[4] +'-' + x[0]+x[1]+x[2] + '-'+ x[9] + x[10])"
   ]
  },
  {
   "cell_type": "markdown",
   "metadata": {},
   "source": [
    "##### Code to obtain csv with news date and labels (positive or negative)"
   ]
  },
  {
   "cell_type": "code",
   "execution_count": 10,
   "metadata": {
    "collapsed": true
   },
   "outputs": [],
   "source": [
    "df1.drop(df1.columns.difference(['Date','News','Label']), 1, inplace=True)"
   ]
  },
  {
   "cell_type": "code",
   "execution_count": 11,
   "metadata": {
    "collapsed": true
   },
   "outputs": [],
   "source": [
    "df1.to_csv('news_sentiment.csv')"
   ]
  },
  {
   "cell_type": "markdown",
   "metadata": {},
   "source": [
    "#### Group the news according to date and get the count of positive/negative Sentiments:"
   ]
  },
  {
   "cell_type": "code",
   "execution_count": 12,
   "metadata": {
    "collapsed": true
   },
   "outputs": [],
   "source": [
    "df1=df1.sort_values(by='Date')"
   ]
  },
  {
   "cell_type": "code",
   "execution_count": 13,
   "metadata": {
    "collapsed": true
   },
   "outputs": [],
   "source": [
    "df2=df1.groupby(['Date','Label'], as_index=False).count()"
   ]
  },
  {
   "cell_type": "code",
   "execution_count": 14,
   "metadata": {
    "collapsed": true
   },
   "outputs": [],
   "source": [
    "df2 = df2.pivot_table(values='News',index='Date',columns='Label')"
   ]
  },
  {
   "cell_type": "markdown",
   "metadata": {},
   "source": [
    "#### Data stored in CSV format:"
   ]
  },
  {
   "cell_type": "code",
   "execution_count": 15,
   "metadata": {
    "collapsed": true
   },
   "outputs": [],
   "source": [
    "df2.to_csv('Sentiment_NaiveB.csv')"
   ]
  },
  {
   "cell_type": "markdown",
   "metadata": {},
   "source": [
    "#### Prediction of BTC:"
   ]
  },
  {
   "cell_type": "code",
   "execution_count": 16,
   "metadata": {
    "collapsed": true
   },
   "outputs": [],
   "source": [
    "btc_file = pd.read_csv('bitcoin_data.csv')"
   ]
  },
  {
   "cell_type": "code",
   "execution_count": 17,
   "metadata": {
    "collapsed": true
   },
   "outputs": [],
   "source": [
    "news_sentiment =pd.read_csv('Sentiment_NaiveB.csv')"
   ]
  },
  {
   "cell_type": "code",
   "execution_count": 18,
   "metadata": {
    "collapsed": true
   },
   "outputs": [],
   "source": [
    "btc_merged=pd.merge(left=btc_file,right=news_sentiment,left_on='Date',right_on='Date', how='left')"
   ]
  },
  {
   "cell_type": "code",
   "execution_count": 19,
   "metadata": {
    "collapsed": true
   },
   "outputs": [],
   "source": [
    "btc_merged.rename(columns={'0':'Negative', '1': 'Positive'},inplace=True)"
   ]
  },
  {
   "cell_type": "code",
   "execution_count": 20,
   "metadata": {
    "collapsed": true
   },
   "outputs": [],
   "source": [
    "btc_merged=btc_merged.fillna(0)"
   ]
  },
  {
   "cell_type": "code",
   "execution_count": 21,
   "metadata": {
    "collapsed": true
   },
   "outputs": [],
   "source": [
    "btc_merged['Avg']= (btc_merged['High'] + btc_merged['Low'] + btc_merged['Close'] + btc_merged['Open'])/4"
   ]
  },
  {
   "cell_type": "code",
   "execution_count": 22,
   "metadata": {
    "collapsed": true
   },
   "outputs": [],
   "source": [
    "btc_merged['Date'] =btc_merged['Date'] .astype(str)\n",
    "btc_merged['Date'] = btc_merged['Date'].str.replace('/', '')"
   ]
  },
  {
   "cell_type": "code",
   "execution_count": 23,
   "metadata": {
    "collapsed": true
   },
   "outputs": [],
   "source": [
    "btc_merged=btc_merged.drop(['Name','High','Low','Open','Close'],axis=1)"
   ]
  },
  {
   "cell_type": "code",
   "execution_count": 24,
   "metadata": {
    "collapsed": true
   },
   "outputs": [],
   "source": [
    "btc_merged['Volume'] = btc_merged['Volume'].str.replace(',', '')"
   ]
  },
  {
   "cell_type": "code",
   "execution_count": 25,
   "metadata": {
    "collapsed": true
   },
   "outputs": [],
   "source": [
    "btc_merged['Market Cap'] = btc_merged['Market Cap'].str.replace(',', '')"
   ]
  },
  {
   "cell_type": "markdown",
   "metadata": {},
   "source": [
    "#### Data Normalization: "
   ]
  },
  {
   "cell_type": "code",
   "execution_count": 26,
   "metadata": {
    "collapsed": true
   },
   "outputs": [],
   "source": [
    "btc_merged['Volume']=btc_merged['Volume'].astype(float)\n",
    "btc_merged['Market Cap']=btc_merged['Market Cap'].astype(float)\n",
    "btc_merged['Avg']=btc_merged['Avg'].astype(float)\n",
    "btc_merged['Date']=btc_merged['Date'].astype(float)\n",
    "vol_mean=np.mean(btc_merged['Volume'])\n",
    "vol_std=np.std(btc_merged['Volume'])\n",
    "market_mean=np.mean(btc_merged['Market Cap'])\n",
    "market_std=np.std(btc_merged['Market Cap'])\n",
    "avg_mean=np.mean(btc_merged['Avg'])\n",
    "avg_std=np.std(btc_merged['Avg'])\n",
    "date_mean=np.mean(btc_merged['Date'])\n",
    "date_std=np.std(btc_merged['Date'])\n",
    "btc_merged['Volume']=btc_merged.Volume.map(lambda x: (x-vol_mean)/vol_std)\n",
    "btc_merged['Market Cap']=btc_merged['Market Cap'].map(lambda x: (x-market_mean)/market_std)\n",
    "btc_merged['Avg']=btc_merged['Avg'].map(lambda x: (x-avg_mean)/avg_std)\n",
    "btc_merged['Date']=btc_merged['Date'].map(lambda x: (x-date_mean)/date_std)"
   ]
  },
  {
   "cell_type": "code",
   "execution_count": 27,
   "metadata": {
    "collapsed": true
   },
   "outputs": [],
   "source": [
    "btc_merged.to_csv('normalized_btc')"
   ]
  },
  {
   "cell_type": "markdown",
   "metadata": {},
   "source": [
    "#### Training the BTC Model and it's accuracy:"
   ]
  },
  {
   "cell_type": "code",
   "execution_count": 28,
   "metadata": {},
   "outputs": [
    {
     "name": "stdout",
     "output_type": "stream",
     "text": [
      "0.994795700062\n"
     ]
    }
   ],
   "source": [
    "X_btc=np.array(btc_merged.drop(['Avg'],1))\n",
    "y_btc=np.array(btc_merged['Avg'])\n",
    "X_btc_train, X_btc_test, y_btc_train, y_btc_test = cross_validation.train_test_split (X_btc,y_btc,test_size =.2)\n",
    "btc_model=svm.SVR()\n",
    "btc_model.fit(X_btc_train,y_btc_train)\n",
    "prediction_btc=btc_model.predict(X_btc_test)\n",
    "accuracy=btc_model.score(X_btc_test,y_btc_test)\n",
    "print(accuracy)"
   ]
  },
  {
   "cell_type": "code",
   "execution_count": 29,
   "metadata": {
    "collapsed": true
   },
   "outputs": [],
   "source": [
    "arr=[1,2,3,4,5,6,7,8,9,10]\n",
    "prediction_btc= (prediction_btc*avg_std) + avg_mean\n",
    "y_btc_test=(y_btc_test*avg_std) + avg_mean"
   ]
  },
  {
   "cell_type": "code",
   "execution_count": 30,
   "metadata": {},
   "outputs": [
    {
     "data": {
      "image/png": "[encoded data removed]",
      "text/plain": [
       "<matplotlib.figure.Figure at 0xf502da0>"
      ]
     },
     "metadata": {},
     "output_type": "display_data"
    }
   ],
   "source": [
    "import matplotlib.pyplot as matplt\n",
    "matplt.plot(arr,y_btc_test[-10:],color='blue')\n",
    "matplt.plot(arr,prediction_btc[-10:],color='green')\n",
    "matplt.show()"
   ]
  },
  {
   "cell_type": "markdown",
   "metadata": {},
   "source": [
    "#### Prediction of Ripple:"
   ]
  },
  {
   "cell_type": "code",
   "execution_count": 31,
   "metadata": {
    "collapsed": true
   },
   "outputs": [],
   "source": [
    "ripple_file = pd.read_csv('ripple_data.csv')"
   ]
  },
  {
   "cell_type": "code",
   "execution_count": 32,
   "metadata": {
    "collapsed": true
   },
   "outputs": [],
   "source": [
    "rip_merged=pd.merge(left=ripple_file,right=news_sentiment,left_on='Date',right_on='Date', how='left')"
   ]
  },
  {
   "cell_type": "code",
   "execution_count": 33,
   "metadata": {
    "collapsed": true
   },
   "outputs": [],
   "source": [
    "rip_merged.rename(columns={'0':'Negative', '1': 'Positive'},inplace=True)"
   ]
  },
  {
   "cell_type": "code",
   "execution_count": 34,
   "metadata": {
    "collapsed": true
   },
   "outputs": [],
   "source": [
    "rip_merged=rip_merged.fillna(0)"
   ]
  },
  {
   "cell_type": "code",
   "execution_count": 35,
   "metadata": {
    "collapsed": true
   },
   "outputs": [],
   "source": [
    "rip_merged['Avg']= (rip_merged['High'] + rip_merged['Low'] + rip_merged['Close'] + rip_merged['Open'])/4"
   ]
  },
  {
   "cell_type": "code",
   "execution_count": 36,
   "metadata": {
    "collapsed": true
   },
   "outputs": [],
   "source": [
    "rip_merged=rip_merged.drop(['Name','High','Low','Open','Close'],axis=1)"
   ]
  },
  {
   "cell_type": "code",
   "execution_count": 37,
   "metadata": {
    "collapsed": true
   },
   "outputs": [],
   "source": [
    "rip_merged['Date'] =rip_merged['Date'] .astype(str)\n",
    "rip_merged['Date'] = rip_merged['Date'].str.replace('/', '')"
   ]
  },
  {
   "cell_type": "code",
   "execution_count": 38,
   "metadata": {
    "collapsed": true
   },
   "outputs": [],
   "source": [
    "rip_merged['Volume'] = rip_merged['Volume'].str.replace(',', '')"
   ]
  },
  {
   "cell_type": "code",
   "execution_count": 39,
   "metadata": {
    "collapsed": true
   },
   "outputs": [],
   "source": [
    "rip_merged['Market Cap'] = rip_merged['Market Cap'].str.replace(',', '')"
   ]
  },
  {
   "cell_type": "markdown",
   "metadata": {},
   "source": [
    "#### Data Normalization: "
   ]
  },
  {
   "cell_type": "code",
   "execution_count": 40,
   "metadata": {
    "collapsed": true
   },
   "outputs": [],
   "source": [
    "rip_merged['Volume']=rip_merged['Volume'].astype(float)\n",
    "rip_merged['Market Cap']=rip_merged['Market Cap'].astype(float)\n",
    "rip_merged['Avg']=rip_merged['Avg'].astype(float)\n",
    "rip_merged['Date']=rip_merged['Date'].astype(float)\n",
    "vol_mean=np.mean(rip_merged['Volume'])\n",
    "vol_std=np.std(rip_merged['Volume'])\n",
    "market_mean=np.mean(rip_merged['Market Cap'])\n",
    "market_std=np.std(rip_merged['Market Cap'])\n",
    "avg_mean=np.mean(rip_merged['Avg'])\n",
    "avg_std=np.std(rip_merged['Avg'])\n",
    "date_mean=np.mean(rip_merged['Date'])\n",
    "date_std=np.std(rip_merged['Date'])\n",
    "rip_merged['Volume']=rip_merged.Volume.map(lambda x: (x-vol_mean)/vol_std)\n",
    "rip_merged['Market Cap']=rip_merged['Market Cap'].map(lambda x: (x-market_mean)/market_std)\n",
    "rip_merged['Avg']=rip_merged['Avg'].map(lambda x: (x-avg_mean)/avg_std)\n",
    "rip_merged['Date']=rip_merged['Date'].map(lambda x: (x-date_mean)/date_std)"
   ]
  },
  {
   "cell_type": "code",
   "execution_count": 41,
   "metadata": {
    "collapsed": true
   },
   "outputs": [],
   "source": [
    "rip_merged.to_csv('normalized_rip')"
   ]
  },
  {
   "cell_type": "markdown",
   "metadata": {},
   "source": [
    "#### Training the Ripple Model and it's accuracy:"
   ]
  },
  {
   "cell_type": "code",
   "execution_count": 42,
   "metadata": {},
   "outputs": [
    {
     "name": "stdout",
     "output_type": "stream",
     "text": [
      "0.975167355589\n"
     ]
    }
   ],
   "source": [
    "X_rip=np.array(rip_merged.drop(['Avg'],1))\n",
    "y_rip=np.array(rip_merged['Avg'])\n",
    "X_rip_train, X_rip_test, y_rip_train, y_rip_test = cross_validation.train_test_split (X_rip,y_rip,test_size =.2)\n",
    "rip_model=svm.SVR()\n",
    "rip_model.fit(X_rip_train,y_rip_train)\n",
    "prediction_rip=rip_model.predict(X_rip_test)\n",
    "accuracy_rip=rip_model.score(X_rip_test,y_rip_test)\n",
    "print(accuracy_rip)"
   ]
  },
  {
   "cell_type": "code",
   "execution_count": 43,
   "metadata": {
    "collapsed": true
   },
   "outputs": [],
   "source": [
    "prediction_rip= (prediction_rip*avg_std) + avg_mean\n",
    "y_rip_test=(y_rip_test*avg_std) + avg_mean"
   ]
  },
  {
   "cell_type": "code",
   "execution_count": 44,
   "metadata": {},
   "outputs": [
    {
     "data": {
      "image/png": "[encoded data removed]",
      "text/plain": [
       "<matplotlib.figure.Figure at 0x11336c18>"
      ]
     },
     "metadata": {},
     "output_type": "display_data"
    }
   ],
   "source": [
    "import matplotlib.pyplot as matplt\n",
    "matplt.plot(arr,y_rip_test[-10:],color='blue')\n",
    "matplt.plot(arr,prediction_rip[-10:],color='green')\n",
    "matplt.show()"
   ]
  },
  {
   "cell_type": "markdown",
   "metadata": {},
   "source": [
    "#### Prediction of Ethereum:"
   ]
  },
  {
   "cell_type": "code",
   "execution_count": 45,
   "metadata": {
    "collapsed": true
   },
   "outputs": [],
   "source": [
    "ethereum_file = pd.read_csv('ethereum_data.csv')"
   ]
  },
  {
   "cell_type": "code",
   "execution_count": 46,
   "metadata": {
    "collapsed": true
   },
   "outputs": [],
   "source": [
    "eth_merged=pd.merge(left=ethereum_file,right=news_sentiment,left_on='Date',right_on='Date', how='left')"
   ]
  },
  {
   "cell_type": "code",
   "execution_count": 47,
   "metadata": {
    "collapsed": true
   },
   "outputs": [],
   "source": [
    "eth_merged.rename(columns={'0':'Negative', '1': 'Positive'},inplace=True)"
   ]
  },
  {
   "cell_type": "code",
   "execution_count": 48,
   "metadata": {
    "collapsed": true
   },
   "outputs": [],
   "source": [
    "eth_merged=eth_merged.fillna(0)"
   ]
  },
  {
   "cell_type": "code",
   "execution_count": 49,
   "metadata": {
    "collapsed": true
   },
   "outputs": [],
   "source": [
    "eth_merged['Avg']= (eth_merged['High'] + eth_merged['Low'] + eth_merged['Close'] + eth_merged['Open'])/4"
   ]
  },
  {
   "cell_type": "code",
   "execution_count": 50,
   "metadata": {
    "collapsed": true
   },
   "outputs": [],
   "source": [
    "eth_merged=eth_merged.drop(['Name','High','Low','Open','Close'],axis=1)"
   ]
  },
  {
   "cell_type": "code",
   "execution_count": 51,
   "metadata": {
    "collapsed": true
   },
   "outputs": [],
   "source": [
    "eth_merged['Date'] = eth_merged['Date'].map(lambda x : x[0] + x[1] + x[3]+x[4]+x[6] + x[7])"
   ]
  },
  {
   "cell_type": "code",
   "execution_count": 52,
   "metadata": {
    "collapsed": true
   },
   "outputs": [],
   "source": [
    "eth_merged['Volume'] = eth_merged['Volume'].str.replace(',', '')"
   ]
  },
  {
   "cell_type": "code",
   "execution_count": 53,
   "metadata": {
    "collapsed": true
   },
   "outputs": [],
   "source": [
    "eth_merged['Market Cap'] = eth_merged['Market Cap'].str.replace(',', '')"
   ]
  },
  {
   "cell_type": "code",
   "execution_count": 54,
   "metadata": {
    "collapsed": true
   },
   "outputs": [],
   "source": [
    "eth_merged['Date'] =eth_merged['Date'] .astype(str)"
   ]
  },
  {
   "cell_type": "code",
   "execution_count": 55,
   "metadata": {
    "collapsed": true
   },
   "outputs": [],
   "source": [
    "eth_merged['Date'] = eth_merged['Date'].str.replace('/', '')"
   ]
  },
  {
   "cell_type": "markdown",
   "metadata": {},
   "source": [
    "#### Data Normalization: "
   ]
  },
  {
   "cell_type": "code",
   "execution_count": 56,
   "metadata": {
    "collapsed": true
   },
   "outputs": [],
   "source": [
    "eth_merged['Volume']=eth_merged['Volume'].astype(float)\n",
    "eth_merged['Market Cap']=eth_merged['Market Cap'].astype(float)\n",
    "eth_merged['Avg']=eth_merged['Avg'].astype(float)\n",
    "eth_merged['Date']=eth_merged['Date'].astype(float)\n",
    "vol_mean=np.mean(eth_merged['Volume'])\n",
    "vol_std=np.std(eth_merged['Volume'])\n",
    "market_mean=np.mean(eth_merged['Market Cap'])\n",
    "market_std=np.std(eth_merged['Market Cap'])\n",
    "avg_mean=np.mean(eth_merged['Avg'])\n",
    "avg_std=np.std(eth_merged['Avg'])\n",
    "date_mean=np.mean(eth_merged['Date'])\n",
    "date_std=np.std(eth_merged['Date'])\n",
    "eth_merged['Volume']=eth_merged.Volume.map(lambda x: (x-vol_mean)/vol_std)\n",
    "eth_merged['Market Cap']=eth_merged['Market Cap'].map(lambda x: (x-market_mean)/market_std)\n",
    "eth_merged['Avg']=eth_merged['Avg'].map(lambda x: (x-avg_mean)/avg_std)\n",
    "eth_merged['Date']=eth_merged['Date'].map(lambda x: (x-date_mean)/date_std)"
   ]
  },
  {
   "cell_type": "code",
   "execution_count": 57,
   "metadata": {
    "collapsed": true
   },
   "outputs": [],
   "source": [
    "eth_merged.to_csv('normalized_eth')"
   ]
  },
  {
   "cell_type": "markdown",
   "metadata": {},
   "source": [
    "#### Training the Ethereum Model and it's accuracy:"
   ]
  },
  {
   "cell_type": "code",
   "execution_count": 58,
   "metadata": {},
   "outputs": [
    {
     "name": "stdout",
     "output_type": "stream",
     "text": [
      "0.994709733709\n"
     ]
    }
   ],
   "source": [
    "X_eth=np.array(eth_merged.drop(['Avg'],1))\n",
    "y_eth=np.array(eth_merged['Avg'])\n",
    "X_eth_train, X_eth_test, y_eth_train, y_eth_test = cross_validation.train_test_split (X_eth,y_eth,test_size =.2)\n",
    "eth_model=svm.SVR()\n",
    "eth_model.fit(X_eth_train,y_eth_train)\n",
    "prediction_eth=eth_model.predict(X_eth_test)\n",
    "accuracy=eth_model.score(X_eth_test,y_eth_test)\n",
    "print(accuracy)"
   ]
  },
  {
   "cell_type": "code",
   "execution_count": 59,
   "metadata": {
    "collapsed": true
   },
   "outputs": [],
   "source": [
    "prediction_eth= (prediction_eth*avg_std) + avg_mean\n",
    "y_eth_test=(y_eth_test*avg_std) + avg_mean"
   ]
  },
  {
   "cell_type": "code",
   "execution_count": 60,
   "metadata": {},
   "outputs": [
    {
     "data": {
      "image/png": "[encoded data removed]",
      "text/plain": [
       "<matplotlib.figure.Figure at 0x11879940>"
      ]
     },
     "metadata": {},
     "output_type": "display_data"
    }
   ],
   "source": [
    "import matplotlib.pyplot as matplt\n",
    "matplt.plot(arr,y_eth_test[-10:],color='blue')\n",
    "matplt.plot(arr,prediction_eth[-10:],color='green')\n",
    "matplt.show()"
   ]
  }
 ],
 "metadata": {
  "kernelspec": {
   "display_name": "Python 2",
   "language": "python",
   "name": "python2"
  },
  "language_info": {
   "codemirror_mode": {
    "name": "ipython",
    "version": 2
   },
   "file_extension": ".py",
   "mimetype": "text/x-python",
   "name": "python",
   "nbconvert_exporter": "python",
   "pygments_lexer": "ipython2",
   "version": "2.7.14"
  }
 },
 "nbformat": 4,
 "nbformat_minor": 2
}
